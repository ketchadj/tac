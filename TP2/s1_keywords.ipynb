{
 "cells": [
  {
   "cell_type": "markdown",
   "metadata": {},
   "source": [
    "# Extraction de Keywords"
   ]
  },
  {
   "cell_type": "markdown",
   "metadata": {},
   "source": [
    "## Imports"
   ]
  },
  {
   "cell_type": "code",
   "execution_count": 171,
   "metadata": {},
   "outputs": [],
   "source": [
    "import os\n",
    "import yake"
   ]
  },
  {
   "cell_type": "markdown",
   "metadata": {},
   "source": [
    "## Extraire les mots clés d'un document avec Yake"
   ]
  },
  {
   "cell_type": "markdown",
   "metadata": {},
   "source": [
    "https://github.com/LIAAD/yake"
   ]
  },
  {
   "cell_type": "code",
   "execution_count": 182,
   "metadata": {},
   "outputs": [
    {
     "data": {
      "text/plain": [
       "<yake.yake.KeywordExtractor at 0x16ac0a3db20>"
      ]
     },
     "execution_count": 182,
     "metadata": {},
     "output_type": "execute_result"
    }
   ],
   "source": [
    "# Instantier l'extracteur de mots clés\n",
    "kw_extractor = yake.KeywordExtractor(lan=\"fr\", top=50)\n",
    "kw_extractor"
   ]
  },
  {
   "cell_type": "code",
   "execution_count": 184,
   "metadata": {},
   "outputs": [],
   "source": [
    "# Lister les Fichiers\n",
    "data_path = \"../data/idependance/\"\n",
    "files = [f for f in os.listdir(data_path) if f.endswith('.txt')]"
   ]
  },
  {
   "cell_type": "code",
   "execution_count": 185,
   "metadata": {},
   "outputs": [
    {
     "data": {
      "text/plain": [
       "1001"
      ]
     },
     "execution_count": 185,
     "metadata": {},
     "output_type": "execute_result"
    }
   ],
   "source": [
    "# Imprimer le nombre de fichiers identifiés\n",
    "len(files)"
   ]
  },
  {
   "cell_type": "code",
   "execution_count": 186,
   "metadata": {},
   "outputs": [],
   "source": [
    "years = [str(year) for year in range(1831, 1840)]  # Par exemple, de 1996 à 2022\n",
    "\n",
    "for year in years:\n",
    "    # Filtrer les fichiers correspondant à l'année actuelle\n",
    "    files_for_year = [f for f in os.listdir(data_path) if year in f]\n"
   ]
  },
  {
   "cell_type": "code",
   "execution_count": 187,
   "metadata": {},
   "outputs": [
    {
     "name": "stdout",
     "output_type": "stream",
     "text": [
      "Texte pour l'année 1831 :\n",
      "-L'INDÉPENDANT. , raient dans les rangs des troupes rebelles ou qui conserveraient les fonctions qui -leur ont été confiées par le gouvernement illégal , auront leurs propriétés , de queTVie nature qu'elles soient, mises sous séquestre. \\ Tels sont , Polonais , les principes qui dirigeront la conduite de l'armée , dont la haute confiance de S. M. I. et R. a daigné me donner le commandement. Vous avez à choisir entre les bienfaits , qu'une soumission complète aux volontés de notre magnanime souve\n",
      "Texte pour l'année 1832 :\n",
      "L'INDEPENDANT. ne peut l'oublier, et sa reconnaissance est égale à l'immensité du bienfait. Votre majesté a su conquérir, dan- des temps difficiles, l'amour et la vénéralion de ses sujets : nul n'oserait contredire la voix de tout un peuple qui proclame celte vérité : c'est pour vous , sire, la plus noble des récompenses , et pour nous un gage d'union, de force, de stabilité et de bonheur ! Nous avons déjà appelé l'attention de nos lecteurs sut- les sages mesures prises par le gouvernement contr\n",
      "Texte pour l'année 1833 :\n",
      "BRUXELLES, SAMEDI f -N\" 54. - 3 me ANNEE. ■}- 23 FEVRIER 1833. * ■ li'IMB - - EDITION DU MATIN. ..... i v ' . .' MBEHTÉ, OB3BE POBUC. ■ ' . Les bureaux de / .^dépehdant sont maintenant rue Montagne de la G»ir,n\"^0. 22 FÉVRIEH. TE_H1.__S-._I AU Kf.PUB-CICAI.'ISZSX. Lorsqu'une insurrection populaire est venue passer le niveau jur les institution? d'un pays, toutes les vanités se réveillent , et long-temps encore après la consolidation de l'état qui a subi cette commotion, la crise se continue , la\n",
      "Texte pour l'année 1834 :\n",
      ".- L'INDEPENDANT. M. df Argenson. Je vous récuse , vous, car depuis long-temps je tous connais..... (Interruption tumultueuse et prolongée.) M. le président. Vous n'avez pas/le droit de me récuser; vous devez vous taire. M. d'Argenson, J'ai le droit de parler.... (Le tumulte est au comble.)  Une foule de voix. M. le président , rappelez à l'ordre l'interrupteur ; c'est scandaleux. M. le président agile sa sonnette , et réclamélong-temps en vain le silencédu geste et de la voix. M. le garde-des-s\n",
      "Texte pour l'année 1835 :\n",
      "-jette juridktmn pol^T\"- h laquelle vous voulez livrer 300 de nos concitoyens. /A gauche: Très bien, très bien!) J'avais cru il Y a quelque temps , que s'en était fait de ces retours sur le cassé de ces rigueurs salutaires, de celte prétention de système opiniâtre qui Lus Lvail troublés si long-temps. Il y avail une cltambre nouvelle; , avais ■vu aussi un minière nouveau : car, dans ma pensée, un président du conseil nouveau était destiné à imprimer au cabinet le mouvement de son caractère et de\n",
      "Texte pour l'année 1836 :\n",
      "'..- .. BRUXELLES, VENDREDI - 1 - (if--8r—6« AïraEit)-' 8 JANtÎER 1836. .1 l'abonne rué MunlogM dm la Cour , N 80 , cb« tuiii . , ftt diructeun «U poitea du »uin« ut da l'«t rncfjtr . et • b«i Ui libraire» d_»ign»»J 4 . Ut* d« journal. Psor tout* In lUMan-a, -«lit» Th. L.j«un« , libraire- tiir-ui , * la - H jye , Tweeds W.genilr.at. frit: Pour BruztlUa, la tunci par trimeilre. Pour le«provi«eei,fr. 17. h. 25. (_ntt l.trujtr , ' ■ ÉDITION DU SOIR, X,IBEHT_.» OHDBS X>17Bj_I-. On reçoit Ibidti. et \n",
      "Texte pour l'année 1837 :\n",
      "vent dans-la conscience publique. Or , la conscience publique a dicté, je ne crains pas de ledire , la mesure prise à l'égard du jeune Louis Napoléon. Oh! que si le ministère eùl autrement agi, s'il eut fait ce qu'où lui reproche de n'avoir pas fail, c'est alors que, de toutes paris, les reproches eussent élé sanglants, que les récriminations eussent élé amères! « Vous avez beau vous en défendre, se serail-on récrié, vous êtes des hommes rétrogrades, des amis secrets de la restauration el de la \n",
      "Texte pour l'année 1838 :\n",
      "•*•! du dessin : une maitresse brodeuse tt quatre ouvrières des plus habiles T oui travaillé du 5 août au t s novembre. -, \" — Cp matin le froid est beaucoup plus intense qu'il ne l a ete ces içiirs derniers. K sept heures notre thermomètre exposé au nord marinait 9 di -gi es sous D. a_a.tr_BVt.A- pbs députés. IPlIÉSlnEUCB DE M. OHMS.) Séance du W janvier. sotîMAïas. - Continuation des débats sur le paragraphe .de t .dresse, r.lalif à l'Espagne. — fUtcourt de M llippolyte Passr, de M.lepréM- lie\n",
      "Texte pour l'année 1839 :\n",
      "1» CHAMBRE BE» DEPUTES. Suite de la séance du 7 janvier. DISCUSSION DE L'ADRESSE. „ ...s.. . ,HAi,vement général de curiosité et d'intérêt.) La Cham- ,?ne s'étouue pasj'en s S uis sûr, de mon empressement à prendre la ro^e Pou? toiE i la situation est grave; au moins faut-.l que pour lllOle. I OUI lous.ia »\"• -, . .. j, nrnmnlP n api* /KenilteZ ! personne elle ne écoulez ! ' soit obscure. J'ai soif d'une prompte clarté. (Ecoulez ! aue temps , messieurs , le mol coalition retentit à toutes les or\n"
     ]
    }
   ],
   "source": [
    "for year in years:\n",
    "    # Filtrer les fichiers correspondant à l'année actuelle\n",
    "    files_for_year = [f for f in os.listdir(data_path) if year in f]\n",
    "\n",
    "    # Initialiser le texte pour l'année en cours\n",
    "    text = \"\"\n",
    "\n",
    "    # Concaténer le contenu de tous les fichiers correspondant à l'année\n",
    "    for filename in files_for_year:\n",
    "        file_path = os.path.join(data_path, filename)\n",
    "        with open(file_path, 'r', encoding='utf-8') as f:\n",
    "            text += f.read()\n",
    "\n",
    "    # Affichage des premiers 500 caractères du texte pour chaque année\n",
    "    print(f\"Texte pour l'année {year} :\")\n",
    "    print(text[:500])"
   ]
  },
  {
   "cell_type": "code",
   "execution_count": 179,
   "metadata": {},
   "outputs": [
    {
     "data": {
      "text/plain": [
       "[('ministre', 0.00017682403547410026),\n",
       " ('qu’il', 0.00017823734002450877),\n",
       " ('pays', 0.0001819482336827299),\n",
       " ('d’une', 0.00020322724529292047),\n",
       " ('politique', 0.0002141005830516463),\n",
       " ('C’est', 0.00021928614210514434),\n",
       " ('gouvernement', 0.0002494529281321644),\n",
       " ('Bruxelles', 0.000267699903034666),\n",
       " ('président', 0.00028783569471642573),\n",
       " ('d’un', 0.0003394026532359666),\n",
       " ('Affaires étrangères', 0.0003437770503917622),\n",
       " ('France', 0.00037227716294119473),\n",
       " ('Conseil', 0.00038412852237574956),\n",
       " ('Belgique', 0.0004117798902961451),\n",
       " ('Paris', 0.0004640981286429106),\n",
       " ('Conseil économique flamand', 0.0005087559642965067),\n",
       " ('parti', 0.0005178726302598598),\n",
       " ('d’autre part', 0.0005615849503760843),\n",
       " ('général', 0.0005709722921312517),\n",
       " ('politiques', 0.0005839106810499444),\n",
       " ('faire', 0.0006375341500866095),\n",
       " ('prix', 0.0006459620682484909),\n",
       " ('Affaires économiques', 0.0006725712147494073),\n",
       " ('Affaires', 0.0006859307227464446),\n",
       " ('d’une force politique', 0.0007148127280336522),\n",
       " ('politique d’un pays', 0.0007433041315348464),\n",
       " ('Marché commun', 0.0007439253095708354),\n",
       " ('cours', 0.0008075077896339049),\n",
       " ('ministre d’un gouvernement', 0.0008319394941882351),\n",
       " ('SOIR', 0.0008465636773381164),\n",
       " ('ministres', 0.0008519703527388467),\n",
       " ('d’une part', 0.0008645467077663266),\n",
       " ('qu’ils', 0.0008770087298933215),\n",
       " ('économique', 0.0009140313844576335),\n",
       " ('cours d’une conférence', 0.0009287666225325154),\n",
       " ('d’une politique étrangère', 0.0009335599008946983),\n",
       " ('cours d’une', 0.0009428676172929253),\n",
       " ('politique étrangère', 0.0010020991131464909),\n",
       " ('Comité', 0.0010208831167544822),\n",
       " ('cours d’une réunion', 0.0010335862203588553),\n",
       " ('s’est', 0.0010364935365635034),\n",
       " ('ans', 0.0010385315369295534),\n",
       " ('VOIR DEBUT', 0.001047125753675871),\n",
       " ('part', 0.0010535047336880199),\n",
       " ('président Mao', 0.0010703594821608953),\n",
       " ('problèmes', 0.0010724475542795843),\n",
       " ('constitution d’une force', 0.0010818487588476655),\n",
       " ('parti politique d’un', 0.0010837291829816733),\n",
       " ('gouvernement belge', 0.0010839568281038416),\n",
       " ('Marché', 0.00108636544740106)]"
      ]
     },
     "execution_count": 179,
     "metadata": {},
     "output_type": "execute_result"
    }
   ],
   "source": [
    "\n",
    "keywords = kw_extractor.extract_keywords(text)\n",
    "keywords"
   ]
  },
  {
   "cell_type": "code",
   "execution_count": 168,
   "metadata": {},
   "outputs": [
    {
     "data": {
      "text/plain": [
       "['Congo belge',\n",
       " 'Haute Autorité',\n",
       " 'Marché commun',\n",
       " 'gouvernement belge',\n",
       " 'New York',\n",
       " 'Affaires étrangères',\n",
       " 'Affaires économiques',\n",
       " 'Conseil national',\n",
       " 'Paris Paris',\n",
       " 'haute Belgique',\n",
       " 'secrétaire général',\n",
       " 'd’autre part',\n",
       " 'partis politiques']"
      ]
     },
     "execution_count": 168,
     "metadata": {},
     "output_type": "execute_result"
    }
   ],
   "source": [
    "kept = []\n",
    "for kw, score in keywords:\n",
    "    words = kw.split()\n",
    "    if len(words) == 2:\n",
    "        kept.append(kw)\n",
    "kept"
   ]
  },
  {
   "cell_type": "markdown",
   "metadata": {},
   "source": [
    "## Faire la même opération sur tous les documents"
   ]
  },
  {
   "cell_type": "code",
   "execution_count": 188,
   "metadata": {},
   "outputs": [
    {
     "name": "stdout",
     "output_type": "stream",
     "text": [
      "KB_JB555_1831-02-06_01-00002.txt mentions these keywords: ministère français, ministère Guizot, Londres s'est, ministère Sébastiani, médecins russes, France comm, droit d'intervention, quitté Londres, faire connaître, Londres l'homme, Londres l'arrête, l'abbé Bouqueau...\n",
      "KB_JB555_1831-02-10_01-00003.txt mentions these keywords: cabinet français, congrès belge, qu'il s'agit, France pourrait, d'être Belges, France consent, Nemours s'il...\n",
      "KB_JB555_1831-02-15_01-00004.txt mentions these keywords: sauraient obtenir, triste succès, succès d'entraîner, jeune prince, congrès belge, députés belges, député élu, serait élu...\n",
      "KB_JB555_1831-02-16_01-00004.txt mentions these keywords: question préalable, Robaulx propose, CONGRÈS NATIONAL, Robaulx demande, propose d'ajouter, régiment d'infanterie, proposition qu'il...\n",
      "KB_JB555_1831-03-11_01-00002.txt mentions these keywords: cens d'éligibilité, l'armée russe, maréchal Maison, cabinet autrichien, arrivé hier...\n",
      "KB_JB555_1831-03-17_01-00002.txt mentions these keywords: Casimir Périer, France nouvelle, Considérant qu'il, France s'effraie...\n",
      "KB_JB555_1831-03-22_01-00002.txt mentions these keywords: centre gauche, France serait, France sait, France calme...\n",
      "KB_JB555_1831-03-25_01-00003.txt mentions these keywords: contributions directes, l'administration centrale, l'administration financière, employés supérieurs, responsabilité ministérielle, l'administration provinciale, gouvernement français, service actif, nommé directeur...\n",
      "KB_JB555_1831-03-26_01-00003.txt mentions these keywords: chasseurs volontaires, Van Meenen, garde civique, ASSOCIATION NATIONALE...\n",
      "KB_JB555_1831-03-27_01-00002.txt mentions these keywords: jusqu'à présent, général Grabinski, France Charles, gouvernement français, Gazette d'Augsbourg...\n",
      "KB_JB555_1831-04-18_01-00004.txt mentions these keywords: Pologne russe, Brabant septentrional, général russe, ville Agréez, SOUSCRIPTION NATIONALE, chasseurs Niellon...\n",
      "KB_JB555_1831-04-23_01-00002.txt mentions these keywords: faire naître, gendarme Alanie, faire entendre, chambre actuelle...\n",
      "KB_JB555_1831-04-27_01-00002.txt mentions these keywords: général Gascoyne, Robert Wilson, séance royale, réforme qu'il, peuple qu'il, n'est point, général Robert, conduite qu'ils...\n",
      "KB_JB555_1831-05-01_01-00002.txt mentions these keywords: roi Guillaume, confédération germanique, droits héréditaires, France aurait, province belge, révolution belge, Belges grande, députés belges...\n",
      "KB_JB555_1831-05-03_01-00003.txt mentions these keywords: âpre persévérance, d'une nouvelle, d'un refus, d'un côté, ÉVÉNEMENS POLITIQUES, CONGRÈS NATIONAL, hommes d'un, peuple belge, ministère français...\n",
      "KB_JB555_1831-05-06_01-00003.txt mentions these keywords: Bruxelles sous, faire respecter, loi fondamentale...\n",
      "KB_JB555_1831-05-08_01-00003.txt mentions these keywords: général Dibbets, peuple belge, Belgique libre, peuple anglais...\n",
      "KB_JB555_1831-05-10_01-00003.txt mentions these keywords: l'association nationale, menacent Gand, regarde Gand, Verviers seul, Gand menaçait, Gand d'ici, ministère qu'il...\n",
      "KB_JB555_1831-05-24_01-00002.txt mentions these keywords: qu'il s'est, croire qu'il, mais d'une, maréchal Maison, Pologne aurait, national qu'il, révolution qu'il, qu'ils aient, courrier aurait...\n",
      "KB_JB555_1831-05-25_01-00001.txt mentions these keywords: rue Ducate, atlreaséa Irancs, Gazette d'état, roi qu'il, Grégoire XVI, gouvernement autrichien, Correspondance particulière....\n",
      "KB_JB555_1831-05-31_01-00004.txt mentions these keywords: congrès national, prince Léopold, L'association belge...\n",
      "KB_JB555_1831-06-05_01-00002.txt mentions these keywords: Belgique dans, prince catholique, prince alors, peuple belge, d'un prince, van Meenen, prince Léopold, honorable membre...\n",
      "KB_JB555_1831-06-17_01-00001.txt mentions these keywords: rue Ducale, COURIER ANGLAIS, eut eue, eue adressés, adressés francs, prince Léopold, Russie qu'il, Courier avoue, France pourrait, France fournir, Belgique ait...\n",
      "KB_JB555_1831-06-18_01-00002.txt mentions these keywords: don Pedro, dona Maria, gouvernement belge, acte dit, général Clausel, ministère français, France aurait, Café belge, Moniteur belge...\n",
      "KB_JB555_1831-06-28_01-00002.txt mentions these keywords: lord Ponsonby, Belgique n'est, dona Maria, roi Louis, Belgique est-elle, Hollande séparées, Fêle Dieu...\n",
      "KB_JB555_1831-06-29_01-00001.txt mentions these keywords: ireut étxe, lei lettres, rue Ducale, étxe adresses, qu'on veut, JOURNAL POLITIQUE...\n",
      "KB_JB555_1831-07-02_01-00005.txt mentions these keywords: DISCOURS PRONONCÉS, rive gauche, Messie iscours, Limbourg ous, Limbourg land, constitution belge...\n",
      "KB_JB555_1831-07-04_01-00002.txt mentions these keywords: gouvernement hollandais, faire illusion, communes plus, droits qu'ils, faire partie...\n",
      "KB_JB555_1831-07-05_01-00002.txt mentions these keywords: nation belge, J'ai dit, question préalable, drapeau tricolore, tricolore français, qu'il eût, j'ai droit, dit qu'il...\n",
      "KB_JB555_1831-07-06_01-00006.txt mentions these keywords: soyons justes, Van Snick, qu'il fallait, c'est qu'il, simples propositions, guerre générale...\n",
      "KB_JB555_1831-07-07_01-00002.txt mentions these keywords: tle Venloo, croit nécessaire, croit favorable, avez protesté, tle Maestricht, mais tle, mais qu'il, gouvernement provisoire...\n",
      "KB_JB555_1831-07-09_01-00003.txt mentions these keywords: représentans île, Belgique serait, d'une paix, êtes représentans, n'est point, cédant Venloo, roi Guillaume...\n",
      "KB_JB555_1831-07-11_01-00002.txt mentions these keywords: puis admettre, l'Association belge, garde civique, roi Guillaume, gouvernement national, droit qu'ils, d'un seul, territoire BELGE, COMITÉ DIRECTEUR, nation belge...\n",
      "KB_JB555_1831-07-19_01-00002.txt mentions these keywords: COMTE POZZO, reçu l'ordre, qu'il fallut, qu'elle vient, qu'il vient, France s'est, rapports intimes...\n",
      "KB_JB555_1831-09-08_01-00002.txt mentions these keywords: second débat, GARDE CIVIQUE, commission générale, avons réclamé, gardes civiques, L'assemblée veut-elle, n'est qu'une, n'est point...\n",
      "KB_JB555_1831-09-24_01-00001.txt mentions these keywords: rue Durile, d'officiers français, officiers belges, qu'il faut, l'armée belge, hommes capables, officiers français, gouvernement belge, gouvernement français...\n",
      "KB_JB555_1831-10-06_01-00001.txt mentions these keywords: rue Ducale, lei lettres, eue adreaié, Charles Dupin, liste civile, lord Moiley, lord Camperdown, lord Melbourne, lord Holland, lord Manners, lord Grey, lord Altborp, lord Rothsey, lord John...\n",
      "KB_JB555_1831-10-13_01-00002.txt mentions these keywords: lord Grey, chambre haute, pairie anglaise, ministère tory, nouvelle chambre, France d'une, peuple anglais, Lords présens, faire entreprendre...\n",
      "KB_JB555_1831-10-21_01-00001.txt mentions these keywords: dette hollandaise, guerre générale, Hollande tient, JOURNAL POLITIQUE...\n",
      "KB_JB555_1831-10-22_01-00007.txt mentions these keywords: demande qu'il, faire faire, affaires étrangères, Vilain XIIII, séance légale...\n",
      "KB_JB555_1831-10-28_01-00001.txt mentions these keywords: comité secret, qu'il devait, articles qu'il, D'UN REFUS, qu'il s'agit, homme d'état, d'un comité, conduite qu'il...\n",
      "KB_JB555_1831-11-02_01-00006.txt mentions these keywords: Belgique d'une, Belgique libre, Belgique don, roi Léopold, portante question, Belgique compromettrait...\n",
      "KB_JB555_1831-11-07_01-00003.txt mentions these keywords: roi Guillaume, provinces insurgées, d'une révolution, d'une commission, d'une manière...\n",
      "KB_JB555_1831-11-16_01-00003.txt mentions these keywords: Vilain Xllll, crédits provisoires, crédits qu'il, rendre compte, demande qu'il...\n",
      "KB_JB555_1831-11-21_01-00002.txt mentions these keywords: d'un grand, traité définitif, l'instruction publique, écoles gardiennes...\n",
      "KB_JB555_1831-11-22_01-00003.txt mentions these keywords: l'instruction publique, tle Theux, tle l'instruction, botanique tle, faire tle, tle faire, tles membres, gouvernement provisoire, frais tle, tles choses, tle chose...\n",
      "KB_JB555_1831-11-29_01-00001.txt mentions these keywords: garde nationale, gardes nationaux, Lyon parles, Lyon tombera, voisinent Lyon, JOURNAL POLITIQUE...\n",
      "KB_JB555_1831-11-30_01-00006.txt mentions these keywords: droit d'enquête, commission d'enquête, faudrait-il vouloir, droit exorbitant, tle droit...\n",
      "KB_JB555_1831-12-05_01-00002.txt mentions these keywords: l'autocrate russe, roi Guillaume, peuple polonais, Lyon devaient, garde nationale, Polonais ici, semble qu'il...\n",
      "KB_JB555_1831-12-27_01-00003.txt mentions these keywords: L'empereur Nicolas, qu'il n'est, grand nombre, d'un Anghvs, dit qu'il, parce qu'on...\n",
      "KB_JB555_1832-01-04_01-00004.txt mentions these keywords: dans tles, souverain légitime, dans l'ouest, l'ouest tle, tles pauvres, tle propreté, tles villes, tle parti, dans celte, tle manière, nombre tle...\n",
      "KB_JB555_1832-01-12_01-00002.txt mentions these keywords: gouvernement français, cabinet français, petits états, France Nouvelle, états intermédiaires, qu'il faut, homme politique, d'une manière, Courier sai, France témoignelle, France pouvait, quela France...\n",
      "KB_JB555_1832-01-21_01-00002.txt mentions these keywords: élections nobiliaires, noblesse russe, nobiliaires tle, celte ville, Celte noblesse, tles élections, l'ordre tles, Primes d'encouragement...\n",
      "KB_JB555_1832-01-27_01-00004.txt mentions these keywords: l'instruction publique, L'instruction religieuse, l'instruction primaire, qu'il faut, constitution l'instruction...\n",
      "KB_JB555_1832-01-28_01-00005.txt mentions these keywords: l'instruction primaire, instruits gratuitement, clergé voisin, peuple Belge, l'instruction l'instruction, l'instruction civile, l'instruction d'un...\n",
      "KB_JB555_1832-01-30_01-00004.txt mentions these keywords: Guerre générale, d'une ratification, Négociations directes, possible qu'on, fin courant...\n",
      "KB_JB555_1832-02-11_01-00003.txt mentions these keywords: affaires étrangères, Gendebien demande, crois qu'il, traité définitif, questions qu'il, regrette qu'il, qu'il n'ait...\n",
      "KB_JB555_1832-03-09_01-00005.txt mentions these keywords: population relative, bon marché, population absolue, qu'en France, gouvernemens constitutionnels, grand nombre, d'une manière, peuple belge, d'une population, royaume uni, marché absolu, population d'un...\n",
      "KB_JB555_1832-03-10_01-00005.txt mentions these keywords: gouvernement belge, gouvernement d'un, qu'il faut, d'un pays, gouvernement sous, système qu'il...\n",
      "KB_JB555_1832-03-10_01-00006.txt mentions these keywords: gouvernement provisoire, Est-il vrai, qu'il faut, section centrale, révolution belge, jamais gouvernement, gouvernement vint, d'un pays...\n",
      "KB_JB555_1832-03-18_01-00006.txt mentions these keywords: blâme coninjdiclohe, semble qu'on, grand nombre, sous chef, sous chefs, pouvoir exécutif...\n",
      "KB_JB555_1832-04-21_01-00002.txt mentions these keywords: clergé catholique, roi Guillaume, gouvernement français, gouvernement Hollandais, l'état belge...\n",
      "KB_JB555_1832-06-10_01-00003.txt mentions these keywords: tle Paris, garde nationale, sieur Thorn, tle siège, majesté impériale, gouvernement tle, droits tle, droit tle...\n",
      "KB_JB555_1832-06-11_01-00001.txt mentions these keywords: garde nationale, division militaire, gardes nationales, guerre civile, l'autorité militaire, maréchal ministre, rua Ducale...\n",
      "KB_JB555_1832-06-15_01-00004.txt mentions these keywords: garde nationale, d'un chemin, TRAVAUX PUBLICS, MILICES BOURGEOISES, gardes nationales, c'est vouloir, ouvrages mais, troupe blessés, concession d'un, d'un ouvrage, Lorsqu'un gouvernement, soldats blessés...\n",
      "KB_JB555_1832-07-13_01-00002.txt mentions these keywords: roi Guillaume, Courrier belge, conséquences tles, séparent Anvers...\n",
      "KB_JB555_1832-07-13_01-00003.txt mentions these keywords: affaires étrangères, l'ordre judiciaire, Van Innis, Van Meenen...\n",
      "KB_JB555_1832-07-30_01-00002.txt mentions these keywords: Nous nous, affaires étrangères, Nous tenons, nous faut, jamais nous, Nous prions, nous écrit, Nous avons, nous arrive, nous voulons, nous croyons, nous garantissons, nous n'avons, Nous désirons, nous attendons, nous rt'ions...\n",
      "KB_JB555_1832-08-02_01-00001.txt mentions these keywords: garde nationale, Don Miguel, don Pedro, don Juan, sujet tle, prisons tle, tles conséquences, tles frontières, tles chefs, île juillet, tle Rayneval...\n",
      "KB_JB555_1832-08-02_01-00002.txt mentions these keywords: tle juillet, C'est parce, roi Léopold, tle soleil, BULLETIN OFFICIEL, OFFICIEL SANITAIRE, parait qu'il, Malades admis, hier soir, Soult tles, roi s'est, d'une pièce, tle Mornay, parce qu'il...\n",
      "KB_JB555_1832-08-09_01-00002.txt mentions these keywords: don Pedro, don Miguel, gouvernement français, Ion Miguel, Pedro continuent, capitaine Anner, Pedro occupe, Santa Martha...\n",
      "KB_JB555_1832-08-13_01-00001.txt mentions these keywords: libéralisme allemand, peuple allemand, d'un homme, faudra qu'il, tle France...\n",
      "KB_JB555_1832-08-30_01-00003.txt mentions these keywords: père Enfantin, Léon Simon, Michel Chevalier, prêter serment, Prosper Enfantin, Olinde Rodrigues, Denis Collins, témoins qu'ils, demande qu'il, ministère public, témoin garde, témoins assignés, Enfantin demande...\n",
      "KB_JB555_1832-09-06_01-00003.txt mentions these keywords: J'ai déjà, pouvoir politique, gouvernement provincial, PROGRÈS SOCIAL, tles institutions, Pologne n'était, institutions républicaines, pouvoir absolu, Pologne livrée...\n",
      "KB_JB555_1832-09-21_01-00001.txt mentions these keywords: dit qu'il...\n",
      "KB_JB555_1832-10-11_01-00004.txt mentions these keywords: roi Guillaume, gouvernement hollandais, question belge, d'une conférence, Hollande terminera, JOURNAUX HOLLANDAIS, vrai qu'on...\n",
      "KB_JB555_1832-10-28_01-00004.txt mentions these keywords: général Dumoulin, don Miguel, sieur Pescatore, troupes françaises, général Tabor, gouvernement belge, fonctionnaires belges, Tabor répondit...\n",
      "KB_JB555_1832-11-16_01-00001.txt mentions these keywords: gouvernement anglais, Van Mol, Gambart Mortier, peuple qu'il, ministère Grey, rue Ducale, ambassadeur autrichien...\n",
      "KB_JB555_1832-11-23_01-00002.txt mentions these keywords: troupes françaises, l'armée française, ville d'Anvers, général Chassé, ARMÉE FRANÇAISE, JOURNAUX ANGLAIS, chambres françaises, général français, Jes troupes, quartier général...\n",
      "KB_JB555_1832-11-24_01-00004.txt mentions these keywords: grandes puissances, l'armée belge, affaires étrangères, citadelle d'Anvers, gouvernement belge, Affaires terminées, Affaires civiles, Affaires restant, Belgique jouira, ministère actuel, séance d'hier, projet d'adresse...\n",
      "KB_JB555_1832-12-06_01-00001.txt mentions these keywords: CHAMBRE BELGE, gouvernement français, gardes nationales, garde nationale, maréchal Gérard, fin cour, ORDRE PUBLIC, CHAMBRE FRANÇAISE, d'une guerre, ville d'Anvers, chambres belges, roi Léopold, gouvernement belge...\n",
      "KB_JB555_1832-12-08_01-00001.txt mentions these keywords: guerre générale, plus d'une, plus sûre, d'une guerre, fia cour, ORDRE PUBLIC, plus fort, Plus Plias, s'il n'est, Gambart Mortier, plus grand, plus haut, catholiques belges...\n",
      "KB_JB555_1832-12-13_01-00002.txt mentions these keywords: citadelle d'Anvers, grandes puissances, droit public, L'INDÉPENDANT INTERIEUR, paix générale, siège d'Anvers, guerre faite, celte guerre, révolution belge, cle France...\n",
      "KB_JB555_1832-12-23_01-00002.txt mentions these keywords: lord Pousomby, cour d'appel, liberté religieuse, Lebeau dit, J'ai reçu...\n",
      "KB_JB555_1833-02-23_01-00001.txt mentions these keywords: gouvernement provisoire, Courrier Belge, libre Belgique, Potter continue, gouvernement belge, Belgique devait, Potter sait, Potter professe, mesure nouvelle, lettre qu'il, Belgique accorde...\n",
      "KB_JB555_1833-02-24_01-00002.txt mentions these keywords: Fin courant, Félix Avril, voie extraordinaire, seconde chambre...\n",
      "KB_JB555_1833-03-18_01-00002.txt mentions these keywords: grande naturalisation, services éminens, déclaration prescrite, c'est qu'ils, services importans, naturalisation ordinaire, petite naturalisation, Hollande l'exécution, Belgique aurait, France exigeait...\n",
      "KB_JB555_1833-04-25_01-00003.txt mentions these keywords: révolution belge, arrivé hier, d'un pays, avant-hier Bruxelles, comte Corbineau, nation belge...\n",
      "KB_JB555_1833-05-22_01-00003.txt mentions these keywords: révolution belge, révolution s'est, Nothomb d'avoir, qu'il s'est, qu'il devait, fort Bazegras, brick anglais...\n",
      "KB_JB555_1833-05-26_01-00001.txt mentions these keywords: faire croire, mais c'est, qu'il faut, vingtième fois...\n",
      "KB_JB555_1833-06-23_01-00002.txt mentions these keywords: convention préliminaire, dissolution n'est, nouveau traité, octobre dernier, mais qu'il...\n",
      "KB_JB555_1833-08-22_01-00001.txt mentions these keywords: présente loi, section centrale, mandat d'arrêt, délit politique, sieur Corremans, demande l'extradition, juge d'instruction, ORDRE PUBLIC, L'étranger pourra...\n",
      "KB_JB555_1833-08-25_01-00002.txt mentions these keywords: Lebeau dit, disait Lebeau, Lebeau disait, tlu Luxembourg, fière dévise, mauvaise action, montrait fidèle, mais qu'il...\n",
      "KB_JB555_1833-08-26_01-00001.txt mentions these keywords: l'opposition s'est, d'un banqueroutier, crime d'un, ORSRE PUBIIC...\n",
      "KB_JB555_1833-09-05_01-00001.txt mentions these keywords: l'ancien Courrier, section centrale, Courrier s'était, cause belge, roi Guillaume, Courrier attribue, Courrier annonce, Courrier attaquait, derniers jours...\n",
      "KB_JB555_1833-09-15_01-00001.txt mentions these keywords: section centrale, parla Russie, grande guerre, OBBM PUBLIC, centrale propose, d'une guerre...\n",
      "KB_JB555_1833-09-22_01-00002.txt mentions these keywords: l'instruction moyenne, section centrale, centrale propose, province entière, l'instruction publique...\n",
      "KB_JB555_1833-09-22_01-00003.txt mentions these keywords: Fin courant, Verstolk Van, Van Soelen, septembre courant, baron Verstolk...\n",
      "KB_JB555_1833-10-09_01-00002.txt mentions these keywords: jour appelle, Vilain XIIII, successivement adoptés, comte Vilain, Bruxelles au-delà...\n",
      "KB_JB555_1833-10-31_01-00001.txt mentions these keywords: roi Guillaume, Gand qu'il, n'est point, Gand n'est, qu'il faut, OSDRI PCEUC, Pauvre Messager, mines demandeur, jour n'est...\n",
      "KB_JB555_1833-11-09_01-00001.txt mentions these keywords: qu'à Gand, ORDRE PUBLIC, fabricans gantois, qu'il Fût, déclaration gantoise, dit qu'il, avons public, qu'ils Kmblent, faire part, qu'il Içur...\n",
      "KB_JB555_1833-12-14_01-00001.txt mentions these keywords: mesure qu'il, note qu'il, renseignemens qu'il, mesures qu'on...\n",
      "KB_JB555_1834-01-10_01-00003.txt mentions these keywords: Fin courant, qu'il vient, J'ai dit, c'est qu'il, cetle ville, vient d'être...\n",
      "KB_JB555_1834-01-11_01-00002.txt mentions these keywords: grands principes, principe monarchique, France qu'il, parce qu'on, simple changement, parti populaire, don Juan, loi fut...\n",
      "KB_JB555_1834-02-01_01-00003.txt mentions these keywords: ville hier, hier soir, gouvernement militaire, vient d'être...\n",
      "KB_JB555_1834-02-13_01-00002.txt mentions these keywords: suffrage universel, droits politiques, pouvoir royal...\n",
      "KB_JB555_1834-02-13_01-00003.txt mentions these keywords: fin courant, voix l'ordre, Lorsqu'on établit...\n",
      "KB_JB555_1834-03-02_01-00001.txt mentions these keywords: gouvernement militaire, gouvernement français, point qu'il, ORDRE PUBLIC, l'homme politique, hommes politiques...\n",
      "KB_JB555_1834-03-22_01-00001.txt mentions these keywords: sociétés populaires, général Dumoulin, décret fut, Convention nationale, Francfort s'est, France n'est...\n",
      "KB_JB555_1834-04-14_01-00001.txt mentions these keywords: Courrier belge, grand nombre, parti qu'il, c'est qu'il, ORDRE PUBLIC, ministère belge...\n",
      "KB_JB555_1834-04-27_01-00002.txt mentions these keywords: loi fondamentale, lois exceptionnelles, cetle loi, l'Assemblée Constituante, loi nouvelle, Code civil, véritable loi, droit d'expulsion, loi spéciale, lois spéciales...\n",
      "KB_JB555_1834-04-28_01-00001.txt mentions these keywords: pouvoir exécutif, loi fondamentale, l'autorité judiciaire, pouvoir judiciaire, WDËPE NDAIVT, l'exécution qu'il...\n",
      "KB_JB555_1834-04-29_01-00001.txt mentions these keywords: Vilain XIIII, pouvoir central, Vilain Xllll, d'une Constitution, qu'il n'est, point point, d'un jour...\n",
      "KB_JB555_1834-06-03_01-00002.txt mentions these keywords: conseils provinciaux, conseil provincial, chambres législatives, d'une manière, conseils communaux, d'un conseil, provinciaux dans...\n",
      "KB_JB555_1834-08-10_01-00001.txt mentions these keywords: NOUVEAU MINISTÈRE, anciens ministres, maréchal Soult, frances qu'il, reconnaître qu'il...\n",
      "KB_JB555_1834-09-03_01-00001.txt mentions these keywords: Casimir Perrier, rue Hon, d'une Chambre, session véritable, d'une nouvelle, qu'il fût, Chambre nouvelle, ministère aurait, ministère Lalliltc, hommes qu'il, session qu'on...\n",
      "KB_JB555_1834-10-14_01-00001.txt mentions these keywords: droit d'entrée, droits qu'on, Courrier belge, forts droits, fort mal, droits élevés, droit n'était...\n",
      "KB_JB555_1834-11-10_01-00001.txt mentions these keywords: question belge, révolution belge, LUNDI mmÊÊÊLWÊÊÊÊÊ, grand-duchéde Luxembourg, Pays Bas, Confédération germanique, Diète germanique, Luxembourg wallon, question luxembourgeoise, roi Guillaume, Roi grand-duc, roi grand, provinces belges...\n",
      "KB_JB555_1834-12-11_01-00003.txt mentions these keywords: honorable président, maréchal Gérard, droits politiques, qu'il faut, J'ai dit, dis qu'il, n'ai point, celte chambre, qu'il n'est...\n",
      "KB_JB555_1834-12-14_01-00003.txt mentions these keywords: seconde chambre, voir faire, d'une manière, gouvernement espagnol, d'une loi, dernier ministère...\n",
      "KB_JB555_1835-01-03_01-00003.txt mentions these keywords: système politique, libertés publiques, cetle chambre, jette juridktmn, juridktmn pol, Lus Lvail, c'est parce...\n",
      "KB_JB555_1835-01-05_01-00003.txt mentions these keywords: jour jour, qu'il fallait, principe d'un, d'un gouvernement...\n",
      "KB_JB555_1835-01-06_01-00001.txt mentions these keywords: auguste père, France n'est, France voulait, Dignes pairs, Four Bruxelles, France voyait...\n",
      "KB_JB555_1835-01-06_01-00002.txt mentions these keywords: Monl-Sainl Michel, monarchie constitutionnelle, principes qu'il, France nouvelle, lois qu'il...\n",
      "KB_JB555_1835-02-10_01-00002.txt mentions these keywords: général Merx, rentre alors, d'il général, avez renvoyée, comte Hardegg, Gendebien demande, qu'aux Flandres, j'ai parlé...\n",
      "KB_JB555_1835-02-13_01-00001.txt mentions these keywords: roi Guillaume, congrès belge, Révolution belge, maison d'Orange, l'ouvrage belge, Hollande qni, Keverberg eut, Keverberg reconnaît...\n",
      "KB_JB555_1835-03-13_01-00001.txt mentions these keywords: VENDREDI Onl'aboiien, C'est qu'il, rue Blouta, Onl'aboiien rue, ministère Dupin, ministère Soult, ItMNk dcMguc, d'un ministère, amis politiques, rêvé qu'il...\n",
      "KB_JB555_1835-05-31_01-00001.txt mentions these keywords: ÉRUXÉLLES DIMANCHE, bataillons d'infanterie, Courrier n'en, courriers extraordinaires, Santa Anna, gouvernement constitutionnel, qu'il s'est, Courrier cherche, Courrier disait, Courrier prend...\n",
      "KB_JB555_1835-08-02_01-00002.txt mentions these keywords: bon sens, C'est celte, principe d'un, d'un gouvernement, souffert qu'on, qu'on attaquât...\n",
      "KB_JB555_1835-08-28_01-00001.txt mentions these keywords: Belgique n'est, n'est point, discussion générale, guerre générale, nouvelle loi, ministère actuel...\n",
      "KB_JB555_1835-09-02_01-00001.txt mentions these keywords: qu'il faut, commerce d'Ostende, soil qu'ils, liberté individuelle, temps qu'il, principes qu'elles, Chambre s'est...\n",
      "KB_JB555_1835-09-09_01-00001.txt mentions these keywords: l'industrie cotonnière, séance d'hier, question cotonnière, parce qu'il, système prohibitif, faire faire, peuple anglais...\n",
      "KB_JB555_1835-09-11_01-00002.txt mentions these keywords: l'industrie cotonnière, d'hni Gand, Dorval c'est, Gand n'est, gouvernement provisoire, d'autres industries, c'est qu'il, pavillon national, société cotonnière...\n",
      "KB_JB555_1835-09-11_01-00003.txt mentions these keywords: marché intérieur, lois fondamentales, plus grand, veut plus, loi dit, l'industrie cotonnière...\n",
      "KB_JB555_1835-09-13_01-00002.txt mentions these keywords: L'industrie cotonnière, qu'il faut, d'autres industries, c'est l'industrie, pur aminée, l'industrie nationale, rolon brut, mesures d'exécution...\n",
      "KB_JB555_1835-11-24_01-00003.txt mentions these keywords: New-York s'offraient, Mercure Belge, institutions anciennes, point qu'il...\n",
      "KB_JB555_1835-11-27_01-00001.txt mentions these keywords: sieur Lorient, véritable nom, Jeune Allemagne, gouvernement représentatif...\n",
      "KB_JB555_1835-12-29_01-00001.txt mentions these keywords: c'est qu'il, los renten, journal qu'ils, qu'il n'est, C'est Timon, roi Guillaume...\n",
      "KB_JB555_1836-01-08_01-00001.txt mentions these keywords: port d'Anvers, ruine d'Anvers, d'une capacité, navires d'une, ville d'Anvers, ville qu'ils, navires nationaux, tonneaux d'une, jeune fille, grands navires...\n",
      "KB_JB555_1836-01-11_01-00001.txt mentions these keywords: d'une capacité, port d'Anvers, l'Académie royale, lecture d'une, pleyt réparé, pleyt construit, l'un vieux, d'une pièce...\n",
      "KB_JB555_1836-02-14_01-00005.txt mentions these keywords: liberté communale, conseil communal, parce qu'ils, d'une commune, c'est liberté...\n",
      "KB_JB555_1836-02-23_01-00001.txt mentions these keywords: section centrale, principe d'indemnité, droit commun, l'agression hollandaise...\n",
      "KB_JB555_1836-03-04_01-00001.txt mentions these keywords: nouveau cabinet, cabinet nouveau, amis politiques, droits différentiels, navires belges, qu'il fasse, faudra qu'il, gouvernement anglais, amis qu'il, système politique, majorité qu'il...\n",
      "KB_JB555_1836-03-16_01-00002.txt mentions these keywords: l'amnistie esl, prérogative royale, séance esl, droit d'amnistie, gouvernement esl, grâce esl...\n",
      "KB_JB555_1836-03-28_01-00003.txt mentions these keywords: qu'il s'est, qu'il esl, c'est qu'il, noire politique, politique qu'il, Chambre esl...\n",
      "KB_JB555_1836-04-19_01-00002.txt mentions these keywords: Zwyn appartenaient, liberté d'agir, celte industrie, provinces puisqu'elles, d'un peuple, d'un syslème, jouissaient autrefois, Etienne Piednoir, gouvernement français, politiques n'ont...\n",
      "KB_JB555_1836-05-21_01-00002.txt mentions these keywords: d'un officier, lieutenant-colonel Huybrechl, l'école militaire, général Goblet, officier supérieur, m'assurait qu'il, lieulenant-colonel Buybrecht, d'un service, officiers français, grade qu'il, officiers chargés...\n",
      "KB_JB555_1836-05-29_01-00001.txt mentions these keywords: mais qu'elle, L'administration s'est...\n",
      "KB_JB555_1836-06-23_01-00002.txt mentions these keywords: Karowka esl, qu'a imprimé, chef Karowka, Cour Royale, signé Faure, roi Guillaume...\n",
      "KB_JB555_1836-07-14_01-00002.txt mentions these keywords: dit qu'il, lord Ponsonby, parce qu'il, qu'il faut, lord Palmerston, Allibaut serait, l'abbé Grivei, hommes d'état, soir Allibaut, Louis Allibaut...\n",
      "KB_JB555_1836-07-24_01-00001.txt mentions these keywords: Van Crombrugghe, parce qu'il, BRUXELLES DIMANCHE, Jamme bourgmestre, Liège qu'il, trempe napoléonienne, Roi parce...\n",
      "KB_JB555_1836-08-19_01-00001.txt mentions these keywords: révolution française, moment Madrid, donne ici, parti libéral, gouverneur civil, révolution ici, Madrid élait, malheureux Fouquet...\n",
      "KB_JB555_1836-09-02_01-00001.txt mentions these keywords: JARDIN ZOOLOGIQUE, nouvelles politiques, d'un jardin, gouvernement qu'ils, jardins zoologiques...\n",
      "KB_JB555_1836-09-06_01-00003.txt mentions these keywords: don Carlos, Carlos puisse, loniber ela, ela lis, Cheval Blanc, ici toul, don Basilio, jeune homme...\n",
      "KB_JB555_1836-09-22_01-00001.txt mentions these keywords: Courrier Belge, leçons régulières, régulières d'ordre, ouvrier belge, dignité nationale, d'une semblable, s'est trouvé, peuple espagnol, glorieuse révolution, patriotes espagnols...\n",
      "KB_JB555_1836-09-27_01-00001.txt mentions these keywords: crise financière, d'une crise, banque d'Angleterre, derniers temps...\n",
      "KB_JB555_1836-11-09_01-00001.txt mentions these keywords: roi Guillaume, conseil provincial, nouveau projet, qu'ils aient...\n",
      "KB_JB555_1836-11-23_01-00001.txt mentions these keywords: ouvriers anglais, ouvriers belges, rua Honl, ouvriers français, abonne rua, ouvriers n'est, l'intérêt qu'ils, drs ouvriers, Londres n'est, classes ouvrières, Ici liliraî...\n",
      "KB_JB555_1836-11-24_01-00002.txt mentions these keywords: POLITIQUE ANGLAISE, don Pedro, politique qu'il, France d'une, quadruple alliance, Iraité d'alliance, politique suivie, dona Maria...\n",
      "KB_JB555_1836-11-28_01-00002.txt mentions these keywords: à'sa maison, d'un crime, Mercure Belge, déclare qu'il, d'un délit, Dona Isabelle, demoiselle Levasseur, Banque nationale, qu'il esl, nouvelles qu'il...\n",
      "KB_JB555_1836-11-29_01-00001.txt mentions these keywords: marine marchande, pêche maritime, poisson frais, grande pêche, d'un salon, tonnage total, noire pêche...\n",
      "KB_JB555_1837-01-16_01-00002.txt mentions these keywords: conscience publique, Louis Napoléon, chambre esl, vent dans-la, dans-la conscience...\n",
      "KB_JB555_1837-01-21_01-00001.txt mentions these keywords: don Carlos, l'instruction publique...\n",
      "KB_JB555_1837-01-22_01-00005.txt mentions these keywords: celte France, forces navales, Don Carlos, quadruple alliance, dit qu'il, d'un principe, faire respecter...\n",
      "KB_JB555_1837-01-22_01-00006.txt mentions these keywords: gouvernement espagnol, d'une armée, j'ai élé, l'intervention directe, gouvernement français, refusé l'intervention, secours indirects...\n",
      "KB_JB555_1837-03-10_01-00002.txt mentions these keywords: juridiction militaire, juge naturel, juges naturels, d'un crime, crime militaire, qu'il esl...\n",
      "KB_JB555_1837-03-27_01-00001.txt mentions these keywords: Société Générale, sociétés anonymes, société anonyme, fmnr Brutrlltn, d'une société, droit d'association, Société Nationale, droit commun, Sociétés n'ont, loule société, lois générales...\n",
      "KB_JB555_1837-04-03_01-00002.txt mentions these keywords: COURRIER FRANÇAIS, c'est qu'il, Roi qu'il, qu'il ait, affaira étrangères, qu'il parait, qu'ils n'ont, Américains n'ont, l'esprit qu'ils, qu'il fallait...\n",
      "KB_JB555_1837-05-12_01-00001.txt mentions these keywords: Union écrit, cru qu'il, pouvoir royal, Isdii Roi, qu'ils oui, toul recommence, mai n'est...\n",
      "KB_JB555_1837-05-17_01-00001.txt mentions these keywords: sir Francis, Théophile Gautier, Francis Burdelt, sir Burdell, parce qu'il, Gautier qu'il...\n",
      "KB_JB555_1837-11-13_01-00003.txt mentions these keywords: service dos, minislre plénipotentiaire, courrier chargé, affaires étrangères, d'un part, dos dépêches...\n",
      "KB_JB555_1837-11-23_01-00001.txt mentions these keywords: grand nombre, société démocratique, Sociétés modernes, société civile, Démocratie nouvelle, société religieuse, l'Ecole militaire, nombre placé, mouvement démocratique, petit nombre, SOCIÉTÉS KODÎRKIS...\n",
      "KB_JB555_1838-01-15_01-00002.txt mentions these keywords: vous avez, jamais vous, France esl, d'une manière, l'Espagne vous, Espagne serait, conseil vous...\n",
      "KB_JB555_1838-01-15_01-00006.txt mentions these keywords: d'une manière, enlrctennavecM.de Oaropnzano, manière générale, France esl, d'une intervention, Odilon Barrot, l'honorable préopinanl, d'une Chambre...\n",
      "KB_JB555_1838-01-16_01-00001.txt mentions these keywords: ptllVU.CC Ut-t, France s'est, d'une majorité, Chambre nouvelle, Chambre n'est, l'amendement Hébert, nouveau ministère, gouvernement français, formation d'une...\n",
      "KB_JB555_1838-04-12_01-00005.txt mentions these keywords: ministère public, den Plas, Van den, parce qu'il, d'un journal, ministères publics...\n",
      "KB_JB555_1838-04-18_01-00001.txt mentions these keywords: Timon fut, Parce qu'il, l'homme logique, Timon aurait, homme logique, fête communale, qu'il parait, qu'il s'est, Timon laisse, Timon donl, joor Bruxelles, d'une manière...\n",
      "KB_JB555_1838-05-13_01-00002.txt mentions these keywords: Représentants ele, vainement ailleurs, auraient cherchés, cherchés vainement, nation Songez-y, hier soir, salut qu'ils, qu'ils auraient...\n",
      "KB_JB555_1838-05-14_01-00002.txt mentions these keywords: Rûia tcatAÎUé, général Hurel, celte ville...\n",
      "KB_JB555_1838-05-29_01-00005.txt mentions these keywords: l'administration communale, conseil communal, ville appelante, faire face, Bruxelles viennent, Bruxelles n'auraient...\n",
      "KB_JB555_1838-06-03_01-00001.txt mentions these keywords: conseiller sortant, j'ai dit, Chateaubriand n'est, Four Bruxelles, d'un livre, grand écrivain...\n",
      "KB_JB555_1838-07-02_01-00003.txt mentions these keywords: prince Louis, fortifier Maestricht, dit qu'il, celte brochure, commandant supérieur, détendre àfec, àfec vigueur, mesures convenables, prince Napoléon, grand nombre...\n",
      "KB_JB555_1838-07-06_01-00006.txt mentions these keywords: arrêté royal, travaux publics, province d'anvers, conseil provincial, d'une route, Talleyrand fut, conseil autorise...\n",
      "KB_JB555_1838-08-23_01-00001.txt mentions these keywords: Odflon Barrot, Belgique qu'il...\n",
      "KB_JB555_1838-09-16_01-00001.txt mentions these keywords: voyageurs civils, Reschild Pacha, l'empire turc, l'empire ottoman, faire apprécier, Dimanche FHJX, Pacha d'Egypte, journal français, politique européenne...\n",
      "KB_JB555_1838-11-04_01-00003.txt mentions these keywords: ports autrichiens, chef d'escadron, nouveau traité, port autrichien, Mary Hill, Bruxelles Van, goûts communs, commerce autrichien...\n",
      "KB_JB555_1838-12-23_01-00001.txt mentions these keywords: Banque hollandaise, Société Générale, d'une banque, million fut, conspiration Malet, f.iur Bruxelles, qu'une Banque, Belgique d'avoir, uneaulrc Banque...\n",
      "KB_JB555_1838-12-30_01-00005.txt mentions these keywords: vingt-quatre articles, Confédération germanique, plénipotentiaire belge, Belgique Padopla, révolution belge...\n",
      "KB_JB555_1839-01-10_01-00005.txt mentions these keywords: gouvernement représentatif, celte Chambre, grands pouvoirs, grand mal, gouvernement qu'il, Chambre actuelle, C'est alors...\n",
      "KB_JB555_1839-01-14_01-00001.txt mentions these keywords: parce qu'il, Victor Hugo, hommes qu'ils, c'est qu'il, Guizot qu'ils, homme politique, qu'il faut, injuste qu'il, c'est faire, qu'un grand...\n",
      "KB_JB555_1839-01-14_01-00003.txt mentions these keywords: Casimir Périer, Chambre attend, question belge, bateaux fcra, Victorine Hugo, projet d'adresse, qu'il avail, affaires étrangères...\n",
      "KB_JB555_1839-01-19_01-00005.txt mentions these keywords: France Klle, France pouvait, France d'être, France fût, dit qu'il, France réelle...\n",
      "KB_JB555_1839-01-19_01-00006.txt mentions these keywords: celte politique, politique qu'on, politique extérieure, question belge...\n",
      "KB_JB555_1839-01-23_01-00003.txt mentions these keywords: Celte nouvelle, Chambre esl, Chambre aurait, Chambre entière, amis politiques...\n",
      "KB_JB555_1839-01-28_01-00001.txt mentions these keywords: gouvernement français, marine française, parole politique, cabinet français, hommes politiques, tribune française, ministère qu'elle, citoyens français, France fut...\n",
      "KB_JB555_1839-02-14_01-00001.txt mentions these keywords: bonne compagnie, Belgique eut, Roi Léopold, Chambres belges, miss Pringle, Belgique qu'elle, Jeudi PRIX, Belgique d'accéder, Belgique sonl, Belgique sentait, Belgique indépendante, Belgique pouvait-elle...\n",
      "KB_JB555_1839-02-21_01-00001.txt mentions these keywords: peur l'étranger, vingt-quatre articles, Diète germanique, Confédération germanique, fut point, point qu'il, d'un traité, qu'il fut, Jeudi jiRIX...\n",
      "KB_JB555_1839-02-22_01-00003.txt mentions these keywords: brick noir, seclionssont convoquées, convoquées pour-ce, pour-ce matin, grand brick, vieux créole...\n",
      "KB_JB555_1839-02-25_01-00002.txt mentions these keywords: d'une guerre, d'une conflagration, risques d'une, dépenses d'une...\n",
      "KB_JB555_1839-02-27_01-00001.txt mentions these keywords: Roi Guillaume, Belgique Etat, Belgique indépendante, d'une Belgique, avons dit, Confédération Germanique, droits qu'il, dit qu'il, Belgique neutre...\n",
      "KB_JB555_1839-03-08_01-00003.txt mentions these keywords: Roi Guillaume, guerre générale, grande guerre, d'une guerre, politique extérieure, tm.eXa chnrgeirésutiant, syndicat d'amortissement, dispositions uarliculières, uarliculières relatives...\n",
      "KB_JB555_1839-03-08_01-00005.txt mentions these keywords: statu quo, BES BEPBÉSEîVÏAATg, Confédération germanique, Belgique seule, d'une guerre, Belgique serait...\n",
      "KB_JB555_1839-03-13_01-00005.txt mentions these keywords: paix générale, intérêts matériels, Belgique politique, d'une guerre, guerre générale, C'est l'Europe...\n",
      "KB_JB555_1839-03-13_01-00006.txt mentions these keywords: roi Guillaume, question territoriale, Guillaume aurait, Belgique pacifique, Conférence qu'en, l'honorable député, Belgique aurait, qu'il aurait, Conférence aurait...\n",
      "KB_JB555_1839-03-16_01-00001.txt mentions these keywords: amis politiques, associations politiques, Belgique qu'on, l'honorable député, qu'il suffit, question politique, Belgique d'abord...\n",
      "KB_JB555_1839-03-20_01-00006.txt mentions these keywords: Chambres françaises, roi Guillaume, cetle Chambre, Irnmperles Chambres, Roi qu'ils, j'ai élé, d'un Roi, bonne foi, Conférence qu'on, Chambre d'avoir, nouvelles Chambres, qu'il élait...\n",
      "KB_JB555_1839-03-20_01-00008.txt mentions these keywords: Roi Guillaume, nationalité belge, foi jurée, noire révolution, Belgique qu'il, brave Luxembourgeois, nom belge...\n",
      "KB_JB555_1839-05-12_01-00006.txt mentions these keywords: celte Chambre, J'ai dit, Chambre serait, cenlre gauche, Couronne qu'ils, parce qu'on, qu'il faut...\n",
      "KB_JB555_1839-05-25_01-00001.txt mentions these keywords: Van Hulthem, nouveau tarif, tarifs précédents, grandes villes, banquiers anglais...\n",
      "KB_JB555_1839-06-04_01-00003.txt mentions these keywords: noble vicomte, noble lord, mai qu'il, Robert Peel, Sir Robert...\n",
      "KB_JB555_1839-06-05_01-00001.txt mentions these keywords: princesse Doria, avons déjà, journal qu'il, qu'il faut, journaux qu'il, conviction qu'il...\n",
      "KB_JB555_1839-06-23_01-00005.txt mentions these keywords: projets adoptés, parce qu'il, Cinquante-neuf projets, peur l'étranger, ïiUllfll ffl, l'avait sifflé, loi électorale, projet relatif, d'un sénateur, sessions précédentes, projets fixant, projets réellement...\n",
      "KB_JB555_1839-12-23_01-00001.txt mentions these keywords: four Brux, d'un peuple, Roi absolu, puissances européennes, peuple danois, réclamations faites...\n"
     ]
    }
   ],
   "source": [
    "import csv\n",
    "\n",
    "# Création d'une liste pour tous les mots-clés de 1831 à 1835\n",
    "all_keywords_1831_1840 = []\n",
    "\n",
    "# Faire la même opération sur tous les documents de la période spécifiée\n",
    "for year in range(1831, 1840):\n",
    "    files_for_year = [f for f in os.listdir(data_path) if str(year) in f]\n",
    "\n",
    "    for filename in files_for_year:\n",
    "        text = open(os.path.join(data_path, filename), 'r', encoding='utf-8').read()\n",
    "        keywords = kw_extractor.extract_keywords(text)\n",
    "        kept = []\n",
    "        for kw, score in keywords:\n",
    "            words = kw.split()\n",
    "            if len(words) == 2:\n",
    "                kept.append(kw)\n",
    "                all_keywords_1831_1840.append((kw, score))\n",
    "        print(f\"{filename} mentions these keywords: {', '.join(kept)}...\")\n",
    "\n",
    "# Tri des mots-clés par score (croissant)\n",
    "all_keywords_1831_1840.sort(key=lambda x: x[1])\n",
    "\n",
    "# Écriture des mots-clés dans un fichier CSV\n",
    "with open('keywords_1831_1840.csv', 'w', newline='', encoding='utf-8') as csvfile:\n",
    "    keyword_writer = csv.writer(csvfile, delimiter=',')\n",
    "    keyword_writer.writerow(['Keyword', 'Score'])  # Écriture de l'en-tête\n",
    "    for kw, score in all_keywords_1831_1840:\n",
    "        keyword_writer.writerow([kw, score])"
   ]
  }
 ],
 "metadata": {
  "kernelspec": {
   "display_name": "Python 3.10.5 ('tac_venv': venv)",
   "language": "python",
   "name": "python3"
  },
  "language_info": {
   "codemirror_mode": {
    "name": "ipython",
    "version": 3
   },
   "file_extension": ".py",
   "mimetype": "text/x-python",
   "name": "python",
   "nbconvert_exporter": "python",
   "pygments_lexer": "ipython3",
   "version": "3.9.0"
  },
  "vscode": {
   "interpreter": {
    "hash": "b1932ab1d169b4769d1550e799423b6477588e745f266d79d9004c136c81607e"
   }
  }
 },
 "nbformat": 4,
 "nbformat_minor": 4
}
