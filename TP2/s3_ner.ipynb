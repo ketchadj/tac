{
 "cells": [
  {
   "cell_type": "markdown",
   "metadata": {},
   "source": [
    "# Reconnaissance d'entités nommées avec SpaCy"
   ]
  },
  {
   "cell_type": "markdown",
   "metadata": {},
   "source": [
    "La documentation est accessible ici: https://spacy.io/api"
   ]
  },
  {
   "cell_type": "markdown",
   "metadata": {},
   "source": [
    "## Imports"
   ]
  },
  {
   "cell_type": "code",
   "execution_count": 23,
   "metadata": {},
   "outputs": [],
   "source": [
    "from collections import defaultdict\n",
    "import sys\n",
    "import spacy\n",
    "from spacy.lang.fr.examples import sentences"
   ]
  },
  {
   "cell_type": "code",
   "execution_count": 27,
   "metadata": {},
   "outputs": [],
   "source": [
    "nlp = spacy.load('fr_core_news_md')"
   ]
  },
  {
   "cell_type": "markdown",
   "metadata": {},
   "source": [
    "## Appliquer la reconnaissance d'entités nommées sur notre corpus"
   ]
  },
  {
   "cell_type": "code",
   "execution_count": 28,
   "metadata": {},
   "outputs": [],
   "source": [
    "# Charger le texte\n",
    "n=100000\n",
    "text = open(\"../data/keywords1962.txt\", encoding='utf-8').read()[:n]"
   ]
  },
  {
   "cell_type": "code",
   "execution_count": 29,
   "metadata": {},
   "outputs": [
    {
     "name": "stdout",
     "output_type": "stream",
     "text": [
      "CPU times: total: 406 ms\n",
      "Wall time: 1.38 s\n"
     ]
    }
   ],
   "source": [
    "%%time\n",
    "# Traiter le texte\n",
    "\n",
    "doc = nlp(text)"
   ]
  },
  {
   "cell_type": "markdown",
   "metadata": {},
   "source": [
    " lister  les organisations (PER) les plus mentionnées dans le corpus"
   ]
  },
  {
   "cell_type": "code",
   "execution_count": 17,
   "metadata": {},
   "outputs": [],
   "source": [
    "# Compter les entités\n",
    "people = defaultdict(int)\n",
    "for ent in doc.ents:\n",
    "    if ent.label_ == \"PER\" and len(ent.text) > 3:\n",
    "        people[ent.text] += 1"
   ]
  },
  {
   "cell_type": "code",
   "execution_count": 18,
   "metadata": {},
   "outputs": [
    {
     "name": "stdout",
     "output_type": "stream",
     "text": [
      "Rossel apparait 3 fois dans le corpus\n",
      "Mme,0.0012642627849406359 apparait 1 fois dans le corpus\n",
      "Organisateur,0.0032153639427492248 apparait 1 fois dans le corpus\n",
      "Madame Jean,0.004083601068321637\n",
      "Eddie Felson,0.004117514457653823 apparait 1 fois dans le corpus\n",
      "Simone Signoret,0.004168164330876179\n",
      "VOULEZ FAIRE,0.004221531027121205 apparait 1 fois dans le corpus\n",
      "Van Elslande,0.0043716296209163575 apparait 1 fois dans le corpus\n",
      "Van Damme,0.004636910557871549 apparait 1 fois dans le corpus\n",
      "AndrÃ© Rertulot,0.005101214977768849 apparait 1 fois dans le corpus\n",
      "AMBASSADEUR apparait 1 fois dans le corpus\n",
      "Total,0.0056086798790726524\n",
      "Van Bilsen,0.005615725045707415 apparait 1 fois dans le corpus\n",
      "Emp Emp,0.00656815165926309 apparait 1 fois dans le corpus\n",
      "MARCO POLO,0.006809574981821596\n",
      "III apparait 1 fois dans le corpus\n",
      "Notaire Van,0.006915613134398396 apparait 1 fois dans le corpus\n",
      "John Kennedy,0.007462166215580831 apparait 1 fois dans le corpus\n",
      "Georges Bidault,0.007955203451582243 apparait 1 fois dans le corpus\n",
      "Vendredi,0.007976533772150138\n",
      "Amay Sportif,0.007999772241631894 apparait 1 fois dans le corpus\n",
      "Madame Joseph,0.00846083794493336 apparait 1 fois dans le corpus\n",
      "DIVISION III,0.008715396962284202 apparait 1 fois dans le corpus\n",
      "fem,0.009467082675725514 apparait 1 fois dans le corpus\n",
      "PAUL NEWMAN,0.010028459334693195\n",
      "MADAME VEUVE,0.010052315230341346\n",
      "Madame Albert,0.010154800369301555 apparait 1 fois dans le corpus\n",
      "Herve PROMOTION,0.010360569259736057 apparait 1 fois dans le corpus\n",
      "Robert Kennedy,0.011146375320022238\n",
      "Jack Clayton,0.01157611765188673 apparait 1 fois dans le corpus\n",
      "Van Damme,0.011628556749916499 apparait 1 fois dans le corpus\n",
      "Vim JAVELLISANT,0.011653363502401018 apparait 1 fois dans le corpus\n",
      "CHENÃ‹,0.012069579484651023 apparait 1 fois dans le corpus\n",
      "Belgique,0.012075810124346978 apparait 1 fois dans le corpus\n",
      "SOCIETE,0.012861875400492597 apparait 1 fois dans le corpus\n",
      "Van Huele,0.013156774905394438 apparait 1 fois dans le corpus\n",
      "Pavel Popovitch,0.014433196736356431\n",
      "Brabant apparait 1 fois dans le corpus\n",
      "Mina Curtiss,0.014660619944329378\n",
      "lâ€™ apparait 1 fois dans le corpus\n",
      "Henry James,0.015132302955290491\n",
      " apparait 1 fois dans le corpus\n",
      "Georges Grard,0.015203350612995667 apparait 1 fois dans le corpus\n",
      "Robert Rossen,0.01531762771482964 apparait 1 fois dans le corpus\n",
      "Ecrire Agence,0.015548831904750655 apparait 1 fois dans le corpus\n",
      "Denis Dosmond,0.015674571373563397 apparait 1 fois dans le corpus\n",
      "Damme bat,0.015975994860347453\n",
      "Verzele apparait 1 fois dans le corpus\n",
      "Jean Renoir,0.016226026376938357 apparait 1 fois dans le corpus\n",
      "Andrian Nikolaiev,0.0162393538797245 apparait 1 fois dans le corpus\n",
      "Colom,0.016822733268141092 apparait 1 fois dans le corpus\n",
      "mod,0.016910857351676998 apparait 1 fois dans le corpus\n",
      "Bernard Mayeur,0.017009871602228954 apparait 1 fois dans le corpus\n",
      "Madame Charles,0.01708851055269768 apparait 1 fois dans le corpus\n",
      "Brichant,0.017151168902149506\n",
      "Bon salaire,0.017187923271460133\n",
      "batiment apparait 1 fois dans le corpus\n",
      "SOIR Ãœ-JÃ¼,0.017816306927504067\n",
      "Mexique apparait 1 fois dans le corpus\n",
      "VIIIDUSTBI,0.0180491356028059 apparait 1 fois dans le corpus\n",
      "Notaire Marchant,0.018086500232896815 apparait 1 fois dans le corpus\n",
      "Concert symphonique,0.018093079183518407\n",
      "Bemaert apparait 1 fois dans le corpus\n",
      "MONSIEUR Jean,0.01833033203020212 apparait 1 fois dans le corpus\n",
      "Van Tuyli,0.018674898136582983 apparait 1 fois dans le corpus\n",
      "Madame Suzanne,0.018726665512454124\n",
      "Agence Rossel,0.018795865603095038 apparait 1 fois dans le corpus\n"
     ]
    }
   ],
   "source": [
    "# Trier et imprimer\n",
    "\n",
    "sorted_people = sorted(people.items(), key=lambda kv: kv[1], reverse=True)\n",
    "\n",
    "for person, freq in sorted_people[:50]:\n",
    "    print(f\"{person} apparait {freq} fois dans le corpus\")"
   ]
  },
  {
   "cell_type": "markdown",
   "metadata": {},
   "source": [
    "  lister  les organisations (ORG) les plus mentionnées dans le corpus"
   ]
  },
  {
   "cell_type": "code",
   "execution_count": 19,
   "metadata": {},
   "outputs": [],
   "source": [
    "# Compter les entités\n",
    "people = defaultdict(int)\n",
    "for ent in doc.ents:\n",
    "    if ent.label_ == \"ORG\" and len(ent.text) > 3:\n",
    "        people[ent.text] += 1"
   ]
  },
  {
   "cell_type": "code",
   "execution_count": 20,
   "metadata": {},
   "outputs": [
    {
     "name": "stdout",
     "output_type": "stream",
     "text": [
      "AGENCE apparait 4 fois dans le corpus\n",
      "OPEL apparait 3 fois dans le corpus\n",
      "FIRME apparait 2 fois dans le corpus\n",
      "GIROMATIC apparait 2 fois dans le corpus\n",
      "QUOTIDIEN,0.004267680583078936 apparait 1 fois dans le corpus\n",
      "Agence Rossel,0.004315737748064022 apparait 1 fois dans le corpus\n",
      "EAU MINÃ‰RALE,0.004323919897529709\n",
      "MINÃ‰RALE apparait 1 fois dans le corpus\n",
      "Enfin,0.005764567687369629 apparait 1 fois dans le corpus\n",
      "RANTIE INNOVATION,0.005784748475800188 apparait 1 fois dans le corpus\n",
      "Patro Elsden,0.006156413675871406\n",
      "Van Looy,0.006444023699875185 apparait 1 fois dans le corpus\n",
      "Agence Rossel,0.007347753772904647\n",
      "Ecurie del,0.0073705058301741224 apparait 1 fois dans le corpus\n",
      "LIEU,0.008105954451767067 apparait 1 fois dans le corpus\n",
      "Brux Brux,0.009154505827117753 apparait 1 fois dans le corpus\n",
      "Agence Rossel,0.009184020434183694\n",
      "Musique lÃ apparait 1 fois dans le corpus\n",
      "Spartak Brno,0.009571066696175096\n",
      " apparait 1 fois dans le corpus\n",
      "Agence Rossel,0.009802825662687576 apparait 1 fois dans le corpus\n",
      "Fonds Naf,0.010582923926056656\n",
      "Musique lÃ©gÃ¨re,0.010624855169313595 apparait 1 fois dans le corpus\n",
      "Fonds Naf,0.011946827961036601 apparait 1 fois dans le corpus\n",
      "Agence Rossel,0.012353390619727726\n",
      "JHfM apparait 1 fois dans le corpus\n",
      "Galeries Lafayette,0.013666459476097856 apparait 1 fois dans le corpus\n",
      "AVIS apparait 1 fois dans le corpus\n",
      "Agence ROSSEL,0.0139988907777488\n",
      "BRUXELLES apparait 1 fois dans le corpus\n",
      "CENTRALE,0.01437399192158712 apparait 1 fois dans le corpus\n",
      "Van Heck,0.014388194055414229 apparait 1 fois dans le corpus\n",
      "Fonds Naf,0.014626305879867543 apparait 1 fois dans le corpus\n",
      "Conseil communal,0.01614705322313294\n",
      "Robyt apparait 1 fois dans le corpus\n",
      "BOTTINES ENFANTS,0.016315851529046785\n",
      "Adjudication apparait 1 fois dans le corpus\n",
      "Mercator,0.016866017323522584\n",
      "Mercator apparait 1 fois dans le corpus\n",
      "LORIDON apparait 1 fois dans le corpus\n",
      "REPOND,0.01933879803511918\n",
      "internationales DESCARTES,0.01938366082383848 apparait 1 fois dans le corpus\n",
      "Stade FranÃ§ais,0.019968593458803918 apparait 1 fois dans le corpus\n",
      "CINEMAS apparait 1 fois dans le corpus\n",
      "Mexique,0.02050265708950423 apparait 1 fois dans le corpus\n",
      "Crown Mines,0.0207114692463722 apparait 1 fois dans le corpus\n",
      "Concerts,0.021447105118291256\n",
      "Concert apparait 1 fois dans le corpus\n",
      "Prix Parisien,0.022407770932441468 apparait 1 fois dans le corpus\n",
      "Pel,0.022448634420869206 apparait 1 fois dans le corpus\n",
      "Sparfa Schaerbeek,0.023411517392285457\n",
      "Buisingen CitÃ apparait 1 fois dans le corpus\n",
      "Bureau politique,0.023972962204777553 apparait 1 fois dans le corpus\n",
      "INNOCENTS apparait 1 fois dans le corpus\n",
      "Rek,0.024395464479338366\n",
      "D'ENTRETIEN apparait 1 fois dans le corpus\n",
      "Orchestre symphonique,0.02637507156507307\n",
      "Musique apparait 1 fois dans le corpus\n",
      "Wyandolfe,0.029463392095496702 apparait 1 fois dans le corpus\n",
      "Science politique,0.02952856380819895\n",
      "Van apparait 1 fois dans le corpus\n",
      "MONSIEUR apparait 1 fois dans le corpus\n",
      "Orchestre lÃ©ger,0.030942135686203454 apparait 1 fois dans le corpus\n",
      "Orchestre lÃ©ger,0.031844415833476566\n",
      "SOIR Seul,0.03192846717744115 apparait 1 fois dans le corpus\n",
      "TRIUHPH apparait 1 fois dans le corpus\n",
      "Entreprise industrielle,0.03520007364409633\n",
      "PREMIERE PAGE,0.03530139942266766 apparait 1 fois dans le corpus\n",
      "HAVAS Bruxelles,0.03566961254785736 apparait 1 fois dans le corpus\n"
     ]
    }
   ],
   "source": [
    "# Trier et imprimer\n",
    "\n",
    "sorted_people = sorted(people.items(), key=lambda kv: kv[1], reverse=True)\n",
    "\n",
    "for person, freq in sorted_people[:50]:\n",
    "    print(f\"{person} apparait {freq} fois dans le corpus\")"
   ]
  },
  {
   "cell_type": "markdown",
   "metadata": {},
   "source": [
    "lister  les LOCALISATIONS (LOC) les plus mentionnées dans le corpus"
   ]
  },
  {
   "cell_type": "code",
   "execution_count": 21,
   "metadata": {},
   "outputs": [],
   "source": [
    "# Compter les entités\n",
    "people = defaultdict(int)\n",
    "for ent in doc.ents:\n",
    "    if ent.label_ == \"LOC\" and len(ent.text) > 3:\n",
    "        people[ent.text] += 1"
   ]
  },
  {
   "cell_type": "code",
   "execution_count": 22,
   "metadata": {},
   "outputs": [
    {
     "name": "stdout",
     "output_type": "stream",
     "text": [
      "Bruxelles apparait 5 fois dans le corpus\n",
      "France apparait 3 fois dans le corpus\n",
      "LiÃ¨ge apparait 3 fois dans le corpus\n",
      "Belgique apparait 2 fois dans le corpus\n",
      "Stade Louvanlste,0.0032607446527825198 apparait 1 fois dans le corpus\n",
      "QQSBQ apparait 1 fois dans le corpus\n",
      "Foire Internationale,0.005132449311468271 apparait 1 fois dans le corpus\n",
      "Stade Waremme,0.005190638793830731 apparait 1 fois dans le corpus\n",
      "Monsieur,0.0068051487783045645 apparait 1 fois dans le corpus\n",
      "Grand ThÃ©Ã¢tre,0.008130930151090083\n",
      " apparait 1 fois dans le corpus\n",
      "LouvlÃ¨re apparait 1 fois dans le corpus\n",
      "Grand Prix,0.008874890819202789\n",
      "Faire offre,0.00889770865198703 apparait 1 fois dans le corpus\n",
      "Wavre apparait 1 fois dans le corpus\n",
      "Seela apparait 1 fois dans le corpus\n",
      "EKLA Vandenheuvel,0.009460092541802747\n",
      "dem apparait 1 fois dans le corpus\n",
      "Lommel apparait 1 fois dans le corpus\n",
      "Gand apparait 1 fois dans le corpus\n",
      "HABITATION,0.010718486366822265 apparait 1 fois dans le corpus\n",
      "Inondent,0.010866051287626334\n",
      " apparait 1 fois dans le corpus\n",
      "Sainte Eglise,0.012792447552992517 apparait 1 fois dans le corpus\n",
      "CINEMP GÃ‰RARD,0.012845052665337022\n",
      " apparait 1 fois dans le corpus\n",
      "Union miniÃ¨re,0.014945677275032916 apparait 1 fois dans le corpus\n",
      "Monsieur,0.01582077612007415 apparait 1 fois dans le corpus\n",
      "Banque Nationale,0.017323165712114546\n",
      "Lâ€ apparait 1 fois dans le corpus\n",
      "Cercle Gaulois,0.018724523566095427 apparait 1 fois dans le corpus\n",
      "LiÃ¨ge-Limbourg Zolder,0.019629214498453396 apparait 1 fois dans le corpus\n",
      "Union apparait 1 fois dans le corpus\n",
      "Entreprise,0.020220636728815525 apparait 1 fois dans le corpus\n",
      "Grand Prix,0.022786796430701826 apparait 1 fois dans le corpus\n",
      "Rekord,0.022920730311828792 apparait 1 fois dans le corpus\n",
      "The Hustler,0.023122816820126842 apparait 1 fois dans le corpus\n",
      "Katanga Elisabethville,0.02811364920125547\n",
      "Bruxelles apparait 1 fois dans le corpus\n",
      "DIVISION,0.028372302590719958 apparait 1 fois dans le corpus\n",
      "RenÃ© Aerts,0.028427609375784334 apparait 1 fois dans le corpus\n",
      "Brux apparait 1 fois dans le corpus\n",
      "Torre Nilsson,0.030938259239635033 apparait 1 fois dans le corpus\n",
      "SOIR VENDREDI,0.031134950211041772 apparait 1 fois dans le corpus\n",
      "Etats-Unis,0.03198542647547485 apparait 1 fois dans le corpus\n",
      "Kennedy,0.03232708201224071 apparait 1 fois dans le corpus\n",
      "Waterloo Bruxelles,0.034572985153095974 apparait 1 fois dans le corpus\n",
      "ESCARPINS apparait 1 fois dans le corpus\n",
      "Stade FranÃ§ais,0.03470539519132601 apparait 1 fois dans le corpus\n",
      "TreiziÃ¨me apparait 1 fois dans le corpus\n",
      "Grands Magasins,0.037126450839066995 apparait 1 fois dans le corpus\n",
      "avenue Louise,0.03720058563958113 apparait 1 fois dans le corpus\n",
      "Royal,0.03848248735237128 apparait 1 fois dans le corpus\n",
      "Colonie Congo,0.04082869826555205 apparait 1 fois dans le corpus\n",
      "wallon,0.041047733569750604 apparait 1 fois dans le corpus\n",
      "GRAND AMBASSADEUR,0.04170551591345353\n",
      " apparait 1 fois dans le corpus\n",
      "Ancienne Belgique,0.04289336321825932 apparait 1 fois dans le corpus\n"
     ]
    }
   ],
   "source": [
    "# Trier et imprimer\n",
    "\n",
    "sorted_people = sorted(people.items(), key=lambda kv: kv[1], reverse=True)\n",
    "\n",
    "for person, freq in sorted_people[:50]:\n",
    "    print(f\"{person} apparait {freq} fois dans le corpus\")"
   ]
  }
 ],
 "metadata": {
  "kernelspec": {
   "display_name": "Python 3.10.5 ('tac_venv': venv)",
   "language": "python",
   "name": "python3"
  },
  "language_info": {
   "codemirror_mode": {
    "name": "ipython",
    "version": 3
   },
   "file_extension": ".py",
   "mimetype": "text/x-python",
   "name": "python",
   "nbconvert_exporter": "python",
   "pygments_lexer": "ipython3",
   "version": "3.9.0"
  },
  "vscode": {
   "interpreter": {
    "hash": "b1932ab1d169b4769d1550e799423b6477588e745f266d79d9004c136c81607e"
   }
  }
 },
 "nbformat": 4,
 "nbformat_minor": 4
}
