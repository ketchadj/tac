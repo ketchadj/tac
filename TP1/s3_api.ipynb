{
 "cells": [
  {
   "cell_type": "markdown",
   "metadata": {},
   "source": [
    "# APIs: requêtes HTTP"
   ]
  },
  {
   "cell_type": "markdown",
   "metadata": {},
   "source": [
    "## Imports"
   ]
  },
  {
   "cell_type": "code",
   "execution_count": 1,
   "metadata": {},
   "outputs": [],
   "source": [
    "import json\n",
    "import requests"
   ]
  },
  {
   "cell_type": "markdown",
   "metadata": {},
   "source": [
    "## Utiliser [Nominatim](https://nominatim.org/) pour connaître les coordonnées géographiques d'une adresse"
   ]
  },
  {
   "cell_type": "code",
   "execution_count": 2,
   "metadata": {},
   "outputs": [
    {
     "name": "stdout",
     "output_type": "stream",
     "text": [
      "Nombre de thèmes abordés dans le corpus CAMille : 105719\n"
     ]
    }
   ],
   "source": [
    "import requests\n",
    "\n",
    "def get_number_of_themes():\n",
    "    url = \"https://api.crossref.org/works?query=corpus+CAMille\"\n",
    "    response = requests.get(url)\n",
    "    data = response.json()\n",
    "\n",
    "    if \"message\" in data:\n",
    "        total_results = data[\"message\"].get(\"total-results\", 0)\n",
    "        return total_results\n",
    "    else:\n",
    "        return \"Error: Unable to retrieve data\"\n",
    "\n",
    "\n",
    "themes_count = get_number_of_themes()\n",
    "print(f\"Nombre de thèmes abordés dans le corpus CAMille : {themes_count}\")\n",
    "\n"
   ]
  },
  {
   "cell_type": "markdown",
   "metadata": {},
   "source": [
    "## Utiliser REST Countries pour récupérer des informations sur un pays"
   ]
  },
  {
   "cell_type": "markdown",
   "metadata": {},
   "source": [
    "https://restcountries.com/"
   ]
  },
  {
   "cell_type": "code",
   "execution_count": null,
   "metadata": {},
   "outputs": [],
   "source": [
    "country_name = \"Belgium\"\n",
    "\n",
    "base_url = \"http://restcountries.com/v3.1/\"\n",
    "name_url = base_url + \"name/\"\n",
    "code_url = base_url + \"alpha/\"\n",
    "resp = requests.get(name_url + country_name)\n",
    "country = resp.json()[0]\n",
    "try:\n",
    "    languages = country['languages']\n",
    "    print(f\"Languages: {', '.join(languages.values())}\")\n",
    "    border_codes = country['borders']\n",
    "    border_names = []\n",
    "    for code in border_codes:\n",
    "        resp = requests.get(code_url + code)\n",
    "        border_country = resp.json()[0]\n",
    "        border_name = border_country[\"name\"][\"common\"]\n",
    "        border_names.append(border_name)\n",
    "    print(f\"Borders: {', '.join(border_names)}\")\n",
    "except KeyError:\n",
    "    print(\"Unknown country, please use English or native name\")"
   ]
  },
  {
   "cell_type": "markdown",
   "metadata": {},
   "source": [
    "## Pour en savoir plus"
   ]
  },
  {
   "cell_type": "markdown",
   "metadata": {},
   "source": [
    "- Les API Rest: https://towardsdatascience.com/introduction-to-rest-apis-90b5d9676004\n",
    "- La librairie [`requests`](https://requests.readthedocs.io/en/latest/)\n",
    "- Développer une API en Python : https://openclassrooms.com/en/courses/4525361-realisez-un-dashboard-avec-tableau/5774811-creez-une-api-avec-flask"
   ]
  }
 ],
 "metadata": {
  "kernelspec": {
   "display_name": "Python 3.10.5 ('tac_venv': venv)",
   "language": "python",
   "name": "python3"
  },
  "language_info": {
   "codemirror_mode": {
    "name": "ipython",
    "version": 3
   },
   "file_extension": ".py",
   "mimetype": "text/x-python",
   "name": "python",
   "nbconvert_exporter": "python",
   "pygments_lexer": "ipython3",
   "version": "3.9.0"
  },
  "vscode": {
   "interpreter": {
    "hash": "b1932ab1d169b4769d1550e799423b6477588e745f266d79d9004c136c81607e"
   }
  }
 },
 "nbformat": 4,
 "nbformat_minor": 4
}
