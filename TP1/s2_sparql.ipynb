{
 "cells": [
  {
   "cell_type": "markdown",
   "metadata": {},
   "source": [
    "# Bases de connaissance : interroger Wikidata à l'aide de requêtes SPARQL"
   ]
  },
  {
   "cell_type": "markdown",
   "metadata": {},
   "source": [
    "## Imports"
   ]
  },
  {
   "cell_type": "code",
   "execution_count": 1,
   "metadata": {},
   "outputs": [],
   "source": [
    "from datetime import datetime as dt\n",
    "from SPARQLWrapper import SPARQLWrapper, JSON"
   ]
  },
  {
   "cell_type": "markdown",
   "metadata": {},
   "source": [
    "## Obtenir la liste des politiciens belges"
   ]
  },
  {
   "cell_type": "code",
   "execution_count": 3,
   "metadata": {},
   "outputs": [
    {
     "name": "stdout",
     "output_type": "stream",
     "text": [
      "\n",
      "10 article found\n",
      "\n",
      "[{'theme': {'type': 'uri', 'value': 'http://www.wikidata.org/entity/Q167555'}, 'auteur': {'type': 'uri', 'value': 'http://www.wikidata.org/entity/Q28530149'}, 'date': {'datatype': 'http://www.w3.org/2001/XMLSchema#dateTime', 'type': 'literal', 'value': '2023-07-12T00:00:00Z'}, 'titre': {'xml:lang': 'en', 'type': 'literal', 'value': 'BioHackJP 2023 Report R3: Expand the pathway analysis environment to non-model organisms'}}, {'theme': {'type': 'uri', 'value': 'http://www.wikidata.org/entity/Q7999828'}, 'auteur': {'type': 'uri', 'value': 'http://www.wikidata.org/entity/Q28530149'}, 'date': {'datatype': 'http://www.w3.org/2001/XMLSchema#dateTime', 'type': 'literal', 'value': '2023-07-12T00:00:00Z'}, 'titre': {'xml:lang': 'en', 'type': 'literal', 'value': 'BioHackJP 2023 Report R3: Expand the pathway analysis environment to non-model organisms'}}, {'theme': {'type': 'uri', 'value': 'http://www.wikidata.org/entity/Q167555'}, 'auteur': {'type': 'uri', 'value': 'http://www.wikidata.org/entity/Q51632894'}, 'date': {'datatype': 'http://www.w3.org/2001/XMLSchema#dateTime', 'type': 'literal', 'value': '2023-07-12T00:00:00Z'}, 'titre': {'xml:lang': 'en', 'type': 'literal', 'value': 'BioHackJP 2023 Report R3: Expand the pathway analysis environment to non-model organisms'}}, {'theme': {'type': 'uri', 'value': 'http://www.wikidata.org/entity/Q7999828'}, 'auteur': {'type': 'uri', 'value': 'http://www.wikidata.org/entity/Q51632894'}, 'date': {'datatype': 'http://www.w3.org/2001/XMLSchema#dateTime', 'type': 'literal', 'value': '2023-07-12T00:00:00Z'}, 'titre': {'xml:lang': 'en', 'type': 'literal', 'value': 'BioHackJP 2023 Report R3: Expand the pathway analysis environment to non-model organisms'}}, {'theme': {'type': 'uri', 'value': 'http://www.wikidata.org/entity/Q167555'}, 'auteur': {'type': 'uri', 'value': 'http://www.wikidata.org/entity/Q51878859'}, 'date': {'datatype': 'http://www.w3.org/2001/XMLSchema#dateTime', 'type': 'literal', 'value': '2023-07-12T00:00:00Z'}, 'titre': {'xml:lang': 'en', 'type': 'literal', 'value': 'BioHackJP 2023 Report R3: Expand the pathway analysis environment to non-model organisms'}}, {'theme': {'type': 'uri', 'value': 'http://www.wikidata.org/entity/Q7999828'}, 'auteur': {'type': 'uri', 'value': 'http://www.wikidata.org/entity/Q51878859'}, 'date': {'datatype': 'http://www.w3.org/2001/XMLSchema#dateTime', 'type': 'literal', 'value': '2023-07-12T00:00:00Z'}, 'titre': {'xml:lang': 'en', 'type': 'literal', 'value': 'BioHackJP 2023 Report R3: Expand the pathway analysis environment to non-model organisms'}}, {'theme': {'type': 'uri', 'value': 'http://www.wikidata.org/entity/Q167555'}, 'auteur': {'type': 'uri', 'value': 'http://www.wikidata.org/entity/Q56435812'}, 'date': {'datatype': 'http://www.w3.org/2001/XMLSchema#dateTime', 'type': 'literal', 'value': '2023-07-12T00:00:00Z'}, 'titre': {'xml:lang': 'en', 'type': 'literal', 'value': 'BioHackJP 2023 Report R3: Expand the pathway analysis environment to non-model organisms'}}, {'theme': {'type': 'uri', 'value': 'http://www.wikidata.org/entity/Q7999828'}, 'auteur': {'type': 'uri', 'value': 'http://www.wikidata.org/entity/Q56435812'}, 'date': {'datatype': 'http://www.w3.org/2001/XMLSchema#dateTime', 'type': 'literal', 'value': '2023-07-12T00:00:00Z'}, 'titre': {'xml:lang': 'en', 'type': 'literal', 'value': 'BioHackJP 2023 Report R3: Expand the pathway analysis environment to non-model organisms'}}, {'theme': {'type': 'uri', 'value': 'http://www.wikidata.org/entity/Q222046'}, 'auteur': {'type': 'uri', 'value': 'http://www.wikidata.org/entity/Q28194918'}, 'date': {'datatype': 'http://www.w3.org/2001/XMLSchema#dateTime', 'type': 'literal', 'value': '2023-07-03T00:00:00Z'}, 'titre': {'xml:lang': 'en', 'type': 'literal', 'value': 'BioHackJP 2023 Report R4: integration of glyco data with chemo-, geno-, lipid-omics and pathway data'}}, {'theme': {'type': 'uri', 'value': 'http://www.wikidata.org/entity/Q741206'}, 'auteur': {'type': 'uri', 'value': 'http://www.wikidata.org/entity/Q28194918'}, 'date': {'datatype': 'http://www.w3.org/2001/XMLSchema#dateTime', 'type': 'literal', 'value': '2023-07-03T00:00:00Z'}, 'titre': {'xml:lang': 'en', 'type': 'literal', 'value': 'BioHackJP 2023 Report R4: integration of glyco data with chemo-, geno-, lipid-omics and pathway data'}}]\n"
     ]
    }
   ],
   "source": [
    "# Retrieve results from SPARQL\n",
    "endpoint = \"https://query.wikidata.org/bigdata/namespace/wdq/sparql\"\n",
    "sparql = SPARQLWrapper(endpoint)\n",
    "\n",
    "# P27 = country of citizenship \n",
    "# Q31 = Belgium\n",
    "# P106 = Opccupation\n",
    "# Q82955 = Politician\n",
    "# P569 = date of birth\n",
    "# P570 = date of death\n",
    "statement = \"\"\"\n",
    "SELECT ?theme ?auteur ?titre ?date  WHERE {\n",
    "    ?article wdt:P31 wd:Q191067 .\n",
    "    ?article wdt:P1476 ?titre .\n",
    "    ?article wdt:P577 ?date .\n",
    "    ?article wdt:P921 ?theme .\n",
    "    ?article wdt:P50 ?auteur.\n",
    "   FILTER (?date >= \"2022-04-23T00:00:00Z\"^^xsd:dateTime)\n",
    "    SERVICE wikibase:label { bd:serviceParam wikibase:language \"en\" . }\n",
    "}\n",
    "ORDER BY DESC(?date)\n",
    "LIMIT 10\n",
    "\"\"\"\n",
    "\n",
    "sparql.setQuery(statement)\n",
    "sparql.setReturnFormat(JSON)\n",
    "results = sparql.query().convert()\n",
    "\n",
    "rows = results['results']['bindings']\n",
    "print(f\"\\n{len(rows)} article found\\n\")\n",
    "print(rows[:10])"
   ]
  },
  {
   "cell_type": "markdown",
   "metadata": {},
   "source": [
    "## Filtrer pour n'afficher que les noms contenant \"Alphonse\""
   ]
  },
  {
   "cell_type": "code",
   "execution_count": null,
   "metadata": {},
   "outputs": [],
   "source": [
    "name_filter = 'Alphonse'\n",
    "max_results = 10\n",
    "\n",
    "date_format = \"%Y-%m-%dT%H:%M:%SZ\"\n",
    "filtered_rows = [row for row in rows if name_filter in row['personLabel']['value']]\n",
    "print(f\"Displaying the first {max_results}:\\n\")\n",
    "for row in filtered_rows[:max_results]:\n",
    "    try:\n",
    "        birth_date = dt.strptime(row['dateBirth']['value'], date_format)\n",
    "        birth_year = birth_date.year\n",
    "    except ValueError:\n",
    "        birth_year = \"????\"\n",
    "    try:\n",
    "        death_date = dt.strptime(row['dateDeath']['value'], date_format)\n",
    "        death_year = death_date.year\n",
    "    except ValueError: # unknown death date\n",
    "        death_year = \"????\"\n",
    "    except KeyError: # still alive\n",
    "        death_year = \"\"\n",
    "    print(f\"{row['personLabel']['value']} ({birth_year}-{death_year})\")"
   ]
  },
  {
   "cell_type": "markdown",
   "metadata": {},
   "source": [
    "## Pour en savoir plus"
   ]
  },
  {
   "cell_type": "markdown",
   "metadata": {},
   "source": [
    "- [Le projet Wikidata](https://www.wikidata.org/wiki/Wikidata:Main_Page)\n",
    "- [Aide à la construction de requêtes](https://query.wikidata.org/)"
   ]
  }
 ],
 "metadata": {
  "kernelspec": {
   "display_name": "Python 3.10.5 ('venv_tac': venv)",
   "language": "python",
   "name": "python3"
  },
  "language_info": {
   "codemirror_mode": {
    "name": "ipython",
    "version": 3
   },
   "file_extension": ".py",
   "mimetype": "text/x-python",
   "name": "python",
   "nbconvert_exporter": "python",
   "pygments_lexer": "ipython3",
   "version": "3.9.0"
  },
  "vscode": {
   "interpreter": {
    "hash": "a942b0119f0c2604d4302f32a2a6e790f63eb4c9b0c297be7a26bd56fa8e02c6"
   }
  }
 },
 "nbformat": 4,
 "nbformat_minor": 4
}
